{
 "cells": [
  {
   "cell_type": "markdown",
   "source": [
    "## Create a Connection to the SQL Lite database and connect to the server"
   ],
   "metadata": {
    "collapsed": false
   }
  },
  {
   "cell_type": "code",
   "metadata": {
    "collapsed": true,
    "pycharm": {
     "name": "#%%\n"
    }
   },
   "source": [
    "import sqlite3 as db\n",
    "\n",
    "conn = db.connect('identifier.sqlite')\n",
    "\n",
    "c = conn.cursor()"
   ],
   "execution_count": 1,
   "outputs": []
  },
  {
   "cell_type": "markdown",
   "source": [
    "### Create a Table called sales"
   ],
   "metadata": {
    "collapsed": false,
    "pycharm": {
     "name": "#%% md\n"
    }
   }
  },
  {
   "cell_type": "code",
   "execution_count": 2,
   "outputs": [],
   "source": [
    "#c.execute is needed to execute any sql command in jupiter notebook\n",
    "c.execute('DROP TABLE IF EXISTS sales')\n",
    "\n",
    "#Create a table, add column names and its types\n",
    "c.execute('CREATE TABLE sales (customer_id VARCHAR(1), order_date DATE, product_id INTEGER)')\n",
    "\n",
    "#Create a list of lists with all the rows of the table\n",
    "more_sales = [ ('A', '2021-01-01', '1'),\n",
    "  ('A', '2021-01-01', '2'),\n",
    "  ('A', '2021-01-07', '2'),\n",
    "  ('A', '2021-01-10', '3'),\n",
    "  ('A', '2021-01-11', '3'),\n",
    "  ('A', '2021-01-11', '3'),\n",
    "  ('B', '2021-01-01', '2'),\n",
    "  ('B', '2021-01-02', '2'),\n",
    "  ('B', '2021-01-04', '1'),\n",
    "  ('B', '2021-01-11', '1'),\n",
    "  ('B', '2021-01-16', '3'),\n",
    "  ('B', '2021-02-01', '3'),\n",
    "  ('C', '2021-01-01', '3'),\n",
    "  ('C', '2021-01-01', '3'),\n",
    "  ('C', '2021-01-07', '3')]\n",
    "\n",
    "#Insert rows into sales\n",
    "c.executemany('INSERT INTO sales VALUES (?,?,?)', more_sales)\n",
    "\n",
    "#commit this back to the database\n",
    "conn.commit()"
   ],
   "metadata": {
    "collapsed": false,
    "pycharm": {
     "name": "#%%\n"
    }
   }
  },
  {
   "cell_type": "code",
   "execution_count": 3,
   "outputs": [
    {
     "name": "stdout",
     "output_type": "stream",
     "text": [
      "   customer_id  order_date  product_id\n",
      "0            A  2021-01-01           1\n",
      "1            A  2021-01-01           2\n",
      "2            A  2021-01-07           2\n",
      "3            A  2021-01-10           3\n",
      "4            A  2021-01-11           3\n",
      "5            A  2021-01-11           3\n",
      "6            B  2021-01-01           2\n",
      "7            B  2021-01-02           2\n",
      "8            B  2021-01-04           1\n",
      "9            B  2021-01-11           1\n",
      "10           B  2021-01-16           3\n",
      "11           B  2021-02-01           3\n",
      "12           C  2021-01-01           3\n",
      "13           C  2021-01-01           3\n",
      "14           C  2021-01-07           3\n"
     ]
    }
   ],
   "source": [
    "#put the sales table into a dataframe\n",
    "import pandas as pd\n",
    "df = pd.read_sql_query('select * from sales', conn)\n",
    "\n",
    "print(df)"
   ],
   "metadata": {
    "collapsed": false,
    "pycharm": {
     "name": "#%%\n"
    }
   }
  },
  {
   "cell_type": "code",
   "execution_count": 30,
   "outputs": [],
   "source": [
    "#c.execute is needed to execute any sql command in jupiter notebook\n",
    "c.execute('DROP TABLE IF EXISTS menu')\n",
    "\n",
    "#Create a table, add column names and its types\n",
    "c.execute('CREATE TABLE menu (product_id INTEGER, product_name VARCHAR(5), price INTEGER)')\n",
    "\n",
    "#Create a list of lists with all the rows of the table\n",
    "more_menu = [ ('1', 'sushi', '10'),\n",
    "  ('2', 'curry', '15'),\n",
    "  ('3', 'ramen', '12'),]\n",
    "\n",
    "#Insert rows into menu\n",
    "c.executemany('INSERT INTO menu VALUES (?,?,?)', more_menu)\n",
    "\n",
    "#commit this back to the database\n",
    "conn.commit()"
   ],
   "metadata": {
    "collapsed": false,
    "pycharm": {
     "name": "#%%\n"
    }
   }
  }
 ],
 "metadata": {
  "kernelspec": {
   "display_name": "Python 3",
   "language": "python",
   "name": "python3"
  },
  "language_info": {
   "codemirror_mode": {
    "name": "ipython",
    "version": 2
   },
   "file_extension": ".py",
   "mimetype": "text/x-python",
   "name": "python",
   "nbconvert_exporter": "python",
   "pygments_lexer": "ipython2",
   "version": "2.7.6"
  }
 },
 "nbformat": 4,
 "nbformat_minor": 0
}